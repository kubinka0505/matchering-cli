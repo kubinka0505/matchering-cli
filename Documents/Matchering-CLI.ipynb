{
	"metadata": {
		"colab": {
			"provenance": [],
			"collapsed_sections": [
				"lsS7HEBmm63e",
				"S22tcP5aDXbF",
				"huZwNNKd2tyX",
				"6zsdgzqD3ibY"
			]
		},
		"kernelspec": {
			"display_name": "Python 3",
			"name": "python3"
		},
		"language_info": {
			"codemirror_mode": {
				"name": "ipython",
				"version": 3
			},
			"file_extension": ".py",
			"mimetype": "text/x-python",
			"name": "python",
			"nbconvert_exporter": "python",
			"pygments_lexer": "ipython3",
			"version": "3.10.11"
		}
	},
	"nbformat": 4,
	"nbformat_minor": 0,
	"cells": [
		{
			"cell_type": "markdown",
			"source": [
				"<img src=\"https://raw.githubusercontent.com/kubinka0505/matchering-cli/master/Documents/Pictures/Matchering_CLI.svg\" width=500>\n",
				"<br>&emsp;\n",
				"\n",
				"---\n",
				"\n",
				"<br>\n",
				"\n",
				"<a href=\"https://github.com/kubinka0505/matchering-cli\"><img src=\"https://img.shields.io/badge/github-open-dimgray?logoColor=FFF&logo=github&style=for-the-badge\"></a>"
			],
			"metadata": {
				"id": "zL4Y3ayGmuhZ"
			}
		},
		{
			"cell_type": "markdown",
			"source": [
				"# <font color=lime>**1.**</font> Setup ⚙️"
			],
			"metadata": {
				"id": "lsS7HEBmm63e"
			}
		},
		{
			"cell_type": "code",
			"source": [
				"#@title ## Re/install requirements 📥\n",
				"import os\n",
				"from shutil import rmtree\n",
				"\n",
				"__title__ = \"matchering-cli\"\n",
				"__title_short__ = __title__[::3].upper()\n",
				"\n",
				"if \"__BaseDir\" in locals():\n",
				"\tos.chdir(__BaseDir)\n",
				"\n",
				"if os.path.exists(__title__):\n",
				"\trmtree(__title__)\n",
				"\n",
				"Packages = [\"ffmpeg\"]\n",
				"\n",
				"#-=-=-=-#\n",
				"\n",
				"!apt-get update\n",
				"for Package in Packages:\n",
				"\t!apt-get install {Package} | grep \"{Package}\"\n",
				"\n",
				"print(\"\\n{0}\\n\".format(\"━\" * 64))\n",
				"!git clone https://github.com/kubinka0505/matchering-cli\n",
				"os.chdir(__title__)\n",
				"\n",
				"print(\"\\n{0}\\n\".format(\"━\" * 64))\n",
				"!pip install rich -r requirements.txt | grep -v \"already\"\n",
				"os.chdir(\"..\")\n",
				"\n",
				"#-=-=-=-#\n",
				"\n",
				"__BaseDir = \".\""
			],
			"metadata": {
				"id": "SvtTmq8f2h9j",
				"cellView": "form"
			}
		},
		{
			"cell_type": "code",
			"metadata": {
				"id": "eq_TF8D5sEgU",
				"cellView": "form"
			},
			"source": [
				"#@title ## Setup code ⚙️\n",
				"import requests\n",
				"from time import time\n",
				"from pathlib import Path\n",
				"from zipfile import ZipFile\n",
				"from rich import print as rprint\n",
				"\n",
				"try:\n",
				"\tfrom mutagen import File as mFile\n",
				"except ImportError:\n",
				"\traise SystemExit(\"Requirements were not installed.\")\n",
				"\n",
				"try:\n",
				"\tfrom google.colab import files\n",
				"\tColab = 1\n",
				"except ImportError:\n",
				"\tColab = 0\n",
				"\n",
				"#-=-=-=-#\n",
				"\n",
				"__BaseDir = os.path.abspath(__BaseDir)\n",
				"os.chdir(__BaseDir)\n",
				"\n",
				"Uploads_Directory = os.path.abspath(\"Uploads\")\n",
				"Targets_Directory = os.path.abspath(\"Uploads/Targets\")\n",
				"References_Directory = os.path.abspath(\"Uploads/References\")\n",
				"Results_Directory = os.path.abspath(\"Uploads/Results\")\n",
				"\n",
				"for Directory in Uploads_Directory, Targets_Directory, References_Directory:\n",
				"\tos.makedirs(Directory, exist_ok = 1)\n",
				"\n",
				"#-=-=-=-#\n",
				"\n",
				"def File_Size(Bytes: float) -> str:\n",
				"\t\"\"\"Returns human-readable file size.\"\"\"\n",
				"\tfor Unit in (\"\", \"K\", \"M\", \"G\", \"T\"):\n",
				"\t\tif Bytes < 1024:\n",
				"\t\t\tbreak\n",
				"\t\tBytes /= 1024\n",
				"\n",
				"\tBytes = round(Bytes, 2) if Bytes else 0\n",
				"\treturn str(Bytes)[::-1].zfill(4)[::-1] + \" \" + Unit + \"B\""
			]
		},
		{
			"cell_type": "markdown",
			"source": [
				"# <font color=gold>**2.**</font> Audio files 🔊"
			],
			"metadata": {
				"id": "S22tcP5aDXbF"
			}
		},
		{
			"cell_type": "markdown",
			"source": [
				"## Setup <font color=lime>**TARGET**</font> 🎶\n",
				"> *Audio files you want to master.*"
			],
			"metadata": {
				"id": "huZwNNKd2tyX"
			}
		},
		{
			"cell_type": "code",
			"source": [
				"#@title ### Remove <font color=lime>**TARGET**</font> tracks 🗑️\n",
				"\n",
				"Files = [str(File) for File in Path(Targets_Directory).glob(\"*.*\")]\n",
				"__LF = len(Files)\n",
				"\n",
				"for File in Files:\n",
				"\tos.remove(File)\n",
				"\n",
				"rprint(\"Removed [bold #00CC00]{0}[/] file{1}.\".format(\n",
				"\t__LF,\n",
				"\t\"\" if __LF == 1 else \"s\"\n",
				"))"
			],
			"metadata": {
				"cellView": "form",
				"id": "zu8QIqib2ke7"
			}
		},
		{
			"cell_type": "code",
			"source": [
				"#@title ### Fetch <font color=lime>**TARGET**</font> 📥\n",
				"#@markdown ℹ️ Leave empty for manual upload.<br>\n",
				"#@markdown ℹ️ Multiple URLs separated by `,` supported.\n",
				"Direct_URLs = \"\" #@param {type: \"string\"}\n",
				"Direct_URLs = Direct_URLs.split(\",\")\n",
				"Direct_URLs = [URL.strip() for URL in set(Direct_URLs)]\n",
				"Direct_URLs = [URL for URL in Direct_URLs if URL]\n",
				"__LDU = len(Direct_URLs)\n",
				"\n",
				"if not \"os\" in locals():\n",
				"\traise SystemExit(\"Requirements were not installed.\")\n",
				"\n",
				"os.chdir(Targets_Directory)\n",
				"\n",
				"if Direct_URLs:\n",
				"\tfor Direct_URL in Direct_URLs:\n",
				"\t\t# Normalize URL\n",
				"\t\tfor Delimiter in \"#\", \"?\", \"&\":\n",
				"\t\t\tDirect_URL = Direct_URL.split(Delimiter)[0]\n",
				"\n",
				"\t\tOutput_File = Direct_URL.split(\"/\")[-1]\n",
				"\t\tOutput_File = Output_File.replace(\" \", \"_\")\n",
				"\n",
				"\t\twith requests.head(Direct_URL, allow_redirects = True) as Site:\n",
				"\t\t\tif Site.ok:\n",
				"\t\t\t\tif \"audio\" in Site.headers[\"content-type\"].lower():\n",
				"\t\t\t\t\trprint(f'[bold #44AAFF]Downloading [#FFCC00]\"{Output_File}\"[/][bold]...[/]')\n",
				"\t\t\t\t\t!curl -# \"{Site.url}\" --output \"{Output_File}\"\n",
				"\n",
				"\t\t\t\t\tif all((__LDU > 0, Direct_URLs.index(Direct_URL) + 1 != __LDU)):\n",
				"\t\t\t\t\t\tprint()\n",
				"\t\t\t\telse:\n",
				"\t\t\t\t\trprint(\"[bold #FF0000]Not an audio file[/]\")\n",
				"\t\t\telse:\n",
				"\t\t\t\trprint('[bold #FF0000]URL returned status code {1} (\"{2}\")[/]'.format(\n",
				"\t\t\t\t\tSite.status_code, Site.reason,\n",
				"\t\t\t\t))\n",
				"elif Colab:\n",
				"\trprint(\"Upload [bold][#00CC00]TARGET [#44AAFF]AUDIO[/][/][/] files.\")\n",
				"\tFiles = list(files.upload().keys())\n",
				"\tfor File in Files:\n",
				"\t\tif not \"audio\" in mFile(File).mime[0]:\n",
				"\t\t\tFiles.remove(File)\n",
				"\t\t\tos.remove(File)\n",
				"\n",
				"os.chdir(__BaseDir)"
			],
			"metadata": {
				"cellView": "form",
				"id": "yRambMxRLioj"
			}
		},
		{
			"cell_type": "markdown",
			"source": [
				"---"
			],
			"metadata": {
				"id": "7uitsrkKgyaF"
			}
		},
		{
			"cell_type": "markdown",
			"source": [
				"## Setup <font color=gold>**REFERENCE**</font> 🔎\n",
				"> *Reference track.*"
			],
			"metadata": {
				"id": "6zsdgzqD3ibY"
			}
		},
		{
			"cell_type": "code",
			"source": [
				"#@title ### Remove <font color=gold>**REFERENCE**</font> track 🗑️\n",
				"\n",
				"Files = [str(File) for File in Path(References_Directory).glob(\"*.*\")]\n",
				"__LF = len(Files)\n",
				"\n",
				"for File in Files:\n",
				"\tos.remove(File)\n",
				"\n",
				"rprint(\"Removed [bold #00CC00]{0}[/] file{1}.\".format(\n",
				"\t__LF,\n",
				"\t\"\" if __LF == 1 else \"s\"\n",
				"))"
			],
			"metadata": {
				"cellView": "form",
				"id": "Z4bskXp23caC"
			}
		},
		{
			"cell_type": "code",
			"source": [
				"#@title ### Fetch <font color=gold>**REFERENCE**</font> 📥\n",
				"#@markdown ℹ️ Leave empty for manual upload.\n",
				"Direct_URL = \"\" #@param {type: \"string\"}\n",
				"\n",
				"if not \"os\" in locals():\n",
				"\traise SystemExit(\"Requirements were not installed.\")\n",
				"\n",
				"os.chdir(References_Directory)\n",
				"\n",
				"if Direct_URL:\n",
				"\t# Normalize URL\n",
				"\tfor Delimiter in \"#\", \"?\", \"&\":\n",
				"\t\tDirect_URL = Direct_URL.split(Delimiter)[0]\n",
				"\n",
				"\tOutput_File = Direct_URL.split(\"/\")[-1]\n",
				"\tOutput_File = Output_File.replace(\" \", \"_\")\n",
				"\n",
				"\twith requests.head(Direct_URL, allow_redirects = True) as Site:\n",
				"\t\tif Site.ok:\n",
				"\t\t\tif \"audio\" in Site.headers[\"content-type\"].lower():\n",
				"\t\t\t\trprint(f'[bold #44AAFF]Downloading [#FFCC00]\"{Output_File}\"[/][bold]...[/]')\n",
				"\t\t\t\t!curl -# \"{Site.url}\" --output \"{Output_File}\"\n",
				"\t\t\telse:\n",
				"\t\t\t\trprint(\"[bold #FF0000]Not an audio file[/]\")\n",
				"\t\telse:\n",
				"\t\t\trprint('[bold #FF0000]URL returned status code {1} (\"{2}\")[/]'.format(\n",
				"\t\t\t\tSite.status_code, Site.reason,\n",
				"\t\t\t))\n",
				"elif Colab:\n",
				"\trprint(\"Upload [bold][#FFCC00]REFERENCE [#44AAFF]AUDIO[/][/][/] file.\")\n",
				"\tReference = list(files.upload())\n",
				"\tfor File in Reference:\n",
				"\t\tif not \"audio\" in mFile(File).mime[0]:\n",
				"\t\t\trprint(\"[bold #FF0000]Reference file is not audio file, removing.[/]\")\n",
				"\t\t\tFiles.remove(File)\n",
				"\t\t\tos.remove(File)\n",
				"\t\telse:\n",
				"\t\t\tReference = os.path.join(References_Directory, Reference[0])\n",
				"\n",
				"os.chdir(__BaseDir)"
			],
			"metadata": {
				"id": "hKYFvMRn1lr5",
				"cellView": "form"
			}
		},
		{
			"cell_type": "markdown",
			"source": [
				"# <font color=gold>**3.**</font> Program</font>"
			],
			"metadata": {
				"id": "wC2_ky2Lp0nq"
			}
		},
		{
			"cell_type": "code",
			"source": [
				"#@title ## Config ⚙️\n",
				"#@markdown > *`FLAC` output format is forced.*\n",
				"#@markdown ---\n",
				"\n",
				"Bit_Depth = 24 #@param {type: \"slider\", min: 16, max: 32, step: 8}\n",
				"\n",
				"Sample_Rate = \"Auto\" #@param [\"8 000 Hz\", \"16 000 Hz\", \"32 000 Hz\", \"44 100 Hz\", \"48 000 Hz\", \"88 200 Hz\", \"96 000 Hz\", \"192 000 Hz\", \"Auto\"]\n",
				"Sample_Rate = Sample_Rate.replace(\" \", \" Hz\").replace(\" Hz\", \"\").lower()\n",
				"\n",
				"FFT_Window_Size = \"4096\" #@param [\"256\", \"512\", \"1024\", \"2048\", \"4096\", \"8192\", \"16384\", \"32768\", \"65536\", \"131072\", \"262144\"]\n",
				"\n",
				"Logging_Level = \"Info\" #@param [\"Info\", \"Warnings\", \"Debug\"]\n",
				"Logging_Level = {\"info\": 0, \"warnings\": 1, \"debug\": 2}[Logging_Level.lower()]\n",
				"\n",
				"#@markdown ---\n",
				"\n",
				"Limiter = True #@param {type: \"boolean\"}\n",
				"Normalize = True #@param {type: \"boolean\"}\n",
				"\n",
				"#-=-=-=-#\n",
				"\n",
				"os.environ[\"BIT_DEPTH\"] = str(Bit_Depth)\n",
				"os.environ[\"RATE\"] = Sample_Rate\n",
				"os.environ[\"FFT\"] = FFT_Window_Size\n",
				"os.environ[\"LOGLEVEL\"] = str(Logging_Level)\n",
				"os.environ[\"LIMITER\"] = \"\" if Limiter else \"-nl\"\n",
				"os.environ[\"NORMALIZE\"] = \"\" if Normalize else \"-nn\""
			],
			"metadata": {
				"id": "uidxcOcG4l1F",
				"cellView": "form"
			}
		},
		{
			"cell_type": "code",
			"source": [
				"#@title ## Run ▶️\n",
				"Only_Print_Command = False #@param {type: \"boolean\"}\n",
				"os.chdir(os.path.join(__BaseDir, __title__))\n",
				"\n",
				"Target_Results_Directory = os.path.join(\n",
				"\tResults_Directory,\n",
				"\t\"_\".join((\n",
				"\t\t__title_short__, str(time()).split(\".\")[-1].zfill(7)[::-1]\n",
				"\t))\n",
				")\n",
				"\n",
				"#-=-=-=-#\n",
				"\n",
				"if not os.path.exists(Reference):\n",
				"\traise SystemExit(\"Reference file was not found!\")\n",
				"\n",
				"os.environ[\"PROG\"] = (\"echo \" if Only_Print_Command else \"\") + os.sys.executable\n",
				"os.environ[\"RESULTS\"] = Target_Results_Directory\n",
				"os.environ[\"REFERENCE\"] = Reference\n",
				"os.environ[\"PYFILE\"] = [File for File in os.listdir() \\\n",
				"\tif \".py\" in os.path.splitext(File)[-1].lower()\n",
				"][-1]\n",
				"\n",
				"for File in Path(Targets_Directory).glob(\"*.*\"):\n",
				"\tos.environ[\"INPUT\"] = str(File.resolve())\n",
				"\t!$PROG \"$PYFILE\" -f flac -nfd -v $LOGLEVEL \\\n",
				"\t\t-i \"$INPUT\" -r \"$REFERENCE\" -o \"$RESULTS\" \\\n",
				"\t\t-sr $RATE -fft $FFT \\\n",
				"\t\t$LIMITER $NORMALIZE"
			],
			"metadata": {
				"cellView": "form",
				"id": "Hmm5dyE5JOE7"
			}
		},
		{
			"cell_type": "markdown",
			"source": [
				"---\n",
				"\n",
				"# Utils ⚙️"
			],
			"metadata": {
				"id": "fFyFWm8CZAj1"
			}
		},
		{
			"cell_type": "code",
			"source": [
				"#@title Download files as `ZIP` archive 📥\n",
				"Archive_Path = \"_\".join((\n",
				"\t__title__, str(time()).split(\".\")[0].zfill(8)\n",
				")) + \".zip\"\n",
				"\n",
				"with ZipFile(Archive_Path, \"w\", 14, 1, 9) as Archive:\n",
				"\tfor File in Path(Results_Directory).rglob(\"*\"):\n",
				"\t\tFile = str(File.resolve())\n",
				"\t\tFile_Relative = File.split(Results_Directory)[-1][1:]\n",
				"\n",
				"\t\tif os.path.isfile(File):\n",
				"\t\t\trprint('\\t[bold #44AAFF]Writing [#FFCC00]\"{0}{}\"[/]...[/]'.format(\n",
				"\t\t\t\tos.path.join(\n",
				"\t\t\t\t\tos.path.basename(Archive_Path),\n",
				"\t\t\t\t\tFile_Relative\n",
				"\t\t\t\t)\n",
				"\t\t\t))\n",
				"\t\t\tArchive.write(File, File_Relative)\n",
				"print()\n",
				"\n",
				"if Colab:\n",
				"\tfiles.download(Archive_Path)\n",
				"else:\n",
				"\trprint(\"[bold #00CC00]Done![/]\")"
			],
			"metadata": {
				"id": "Rh9XqHqxZDQP",
				"cellView": "form"
			}
		}
	]
}